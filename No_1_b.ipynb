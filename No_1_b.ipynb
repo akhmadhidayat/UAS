{
  "nbformat": 4,
  "nbformat_minor": 0,
  "metadata": {
    "colab": {
      "name": "No_1_b.ipynb",
      "provenance": [],
      "authorship_tag": "ABX9TyMRxSZJia/HEEkAhU2mqeXD",
      "include_colab_link": true
    },
    "kernelspec": {
      "name": "python3",
      "display_name": "Python 3"
    }
  },
  "cells": [
    {
      "cell_type": "markdown",
      "metadata": {
        "id": "view-in-github",
        "colab_type": "text"
      },
      "source": [
        "<a href=\"https://colab.research.google.com/github/akhmadhidayat/UAS/blob/main/No_1_b.ipynb\" target=\"_parent\"><img src=\"https://colab.research.google.com/assets/colab-badge.svg\" alt=\"Open In Colab\"/></a>"
      ]
    },
    {
      "cell_type": "code",
      "metadata": {
        "id": "Rmy7PTAPn8M8"
      },
      "source": [
        "#Dataset\r\n",
        "jeniskelamin =['laki','laki', 'perempuan', 'perempuan', 'laki', 'laki', 'perempuan', 'perempuan', 'laki', 'perempuan']\r\n",
        "biaya =['murah', 'murah', 'murah','murah','murah', 'standar', 'standar', 'mahal', 'mahal', 'mahal']\r\n",
        "incomelevel =['rendah',  'sedang', 'sedang', 'rendah','sedang', 'sedang', 'sedang', 'tinggi', 'sedang', 'tinggi']\r\n",
        "modeltrans =['bus',  'bus', 'kereta', 'bus','bus', 'kereta', 'kereta', 'mobil', 'mobil', 'mobil']\r\n",
        "\r\n",
        "tujuan =['no', 'yes','yes','no', 'yes', 'no', 'yes', 'yes', 'no', 'no']"
      ],
      "execution_count": 1,
      "outputs": []
    },
    {
      "cell_type": "code",
      "metadata": {
        "colab": {
          "base_uri": "https://localhost:8080/"
        },
        "id": "Xzg87cforTK3",
        "outputId": "d7c93f4e-0a52-4478-f41a-fb13dd2e1a3a"
      },
      "source": [
        "#Import LabelEncoder\r\n",
        "from sklearn import preprocessing\r\n",
        "#creating labelEncoder\r\n",
        "le = preprocessing.LabelEncoder()\r\n",
        "#Convert label string ke numbers\r\n",
        "jeniskelamin_encoded=le.fit_transform(jeniskelamin)\r\n",
        "print (jeniskelamin_encoded)"
      ],
      "execution_count": 2,
      "outputs": [
        {
          "output_type": "stream",
          "text": [
            "[0 0 1 1 0 0 1 1 0 1]\n"
          ],
          "name": "stdout"
        }
      ]
    },
    {
      "cell_type": "code",
      "metadata": {
        "colab": {
          "base_uri": "https://localhost:8080/"
        },
        "id": "XxTul3WIrlV4",
        "outputId": "45892460-4d31-4e4d-f225-91fb6730b45b"
      },
      "source": [
        "#Import LabelEncoder\r\n",
        "from sklearn import preprocessing\r\n",
        "#creating labelEncoder\r\n",
        "label = preprocessing.LabelEncoder()\r\n",
        "#Convert label string ke numbers\r\n",
        "biaya_encoded=label.fit_transform(biaya)\r\n",
        "print (biaya_encoded) \r\n",
        "\r\n",
        "incomelevel_encoded=label.fit_transform(incomelevel)\r\n",
        "print (incomelevel_encoded)\r\n",
        "\r\n",
        "modeltrans_encoded=label.fit_transform(modeltrans)\r\n",
        "print (modeltrans_encoded)\r\n",
        "\r\n",
        "tujuan_encoded=label.fit_transform(tujuan)\r\n",
        "print (tujuan_encoded)"
      ],
      "execution_count": 3,
      "outputs": [
        {
          "output_type": "stream",
          "text": [
            "[1 1 1 1 1 2 2 0 0 0]\n",
            "[0 1 1 0 1 1 1 2 1 2]\n",
            "[0 0 1 0 0 1 1 2 2 2]\n",
            "[0 1 1 0 1 0 1 1 0 0]\n"
          ],
          "name": "stdout"
        }
      ]
    },
    {
      "cell_type": "code",
      "metadata": {
        "colab": {
          "base_uri": "https://localhost:8080/"
        },
        "id": "LrDRg5j_sRN3",
        "outputId": "6567adf3-242f-4ad1-c162-1e23ab8240c7"
      },
      "source": [
        "print (\"jeniskelamin            :\",jeniskelamin_encoded)\r\n",
        "print (\"biaya                   :\",biaya_encoded)\r\n",
        "print (\"incomelevel             :\",incomelevel_encoded)\r\n",
        "print (\"modeltrans              :\",modeltrans_encoded)\r\n",
        "print (\"tujuan                  :\",tujuan_encoded)"
      ],
      "execution_count": 4,
      "outputs": [
        {
          "output_type": "stream",
          "text": [
            "jeniskelamin            : [0 0 1 1 0 0 1 1 0 1]\n",
            "biaya                   : [1 1 1 1 1 2 2 0 0 0]\n",
            "incomelevel             : [0 1 1 0 1 1 1 2 1 2]\n",
            "modeltrans              : [0 0 1 0 0 1 1 2 2 2]\n",
            "tujuan                  : [0 1 1 0 1 0 1 1 0 0]\n"
          ],
          "name": "stdout"
        }
      ]
    },
    {
      "cell_type": "code",
      "metadata": {
        "colab": {
          "base_uri": "https://localhost:8080/"
        },
        "id": "nZ2imskqs3Zv",
        "outputId": "8aa936d0-2d0d-4986-ced7-5010c085e7cc"
      },
      "source": [
        "#Combining fitur-fitur yang ada\r\n",
        "features=zip(jeniskelamin_encoded,biaya_encoded,incomelevel_encoded,modeltrans_encoded)\r\n",
        "features=list(features)\r\n",
        "print (tuple(features))"
      ],
      "execution_count": 5,
      "outputs": [
        {
          "output_type": "stream",
          "text": [
            "((0, 1, 0, 0), (0, 1, 1, 0), (1, 1, 1, 1), (1, 1, 0, 0), (0, 1, 1, 0), (0, 2, 1, 1), (1, 2, 1, 1), (1, 0, 2, 2), (0, 0, 1, 2), (1, 0, 2, 2))\n"
          ],
          "name": "stdout"
        }
      ]
    },
    {
      "cell_type": "code",
      "metadata": {
        "colab": {
          "base_uri": "https://localhost:8080/"
        },
        "id": "HsV6lO5Qtz-d",
        "outputId": "e24fbd05-71fc-44c0-cce7-fdd120631003"
      },
      "source": [
        "#Import Gaussian Naive Bayes model\r\n",
        "from sklearn.naive_bayes import GaussianNB\r\n",
        "\r\n",
        "#Panggil Gaussian Classifier\r\n",
        "model = GaussianNB()\r\n",
        "\r\n",
        "#Train model untuk data training\r\n",
        "model.fit(features,tujuan)\r\n",
        "#Model.fit(features,label.reshape(-1,1))\r\n",
        "\r\n",
        "#Peridiction Output\r\n",
        "predicted = model.predict([[1,2,0,0]]) #1 : perempuan, 1: biaya, 2: incomelevel , 0 : modeltrans, 0 :\r\n",
        "print (\"Hasil Perdiksi:\", predicted)"
      ],
      "execution_count": 6,
      "outputs": [
        {
          "output_type": "stream",
          "text": [
            "Hasil Perdiksi: ['no']\n"
          ],
          "name": "stdout"
        }
      ]
    }
  ]
}